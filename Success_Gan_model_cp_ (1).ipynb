{
  "cells": [
    {
      "cell_type": "code",
      "execution_count": 1,
      "metadata": {
        "id": "IOvuODcnZj4F"
      },
      "outputs": [],
      "source": [
        "import tensorflow as tf\n",
        "from tensorflow.keras.layers import Dense, Conv2D, Input, Flatten, LeakyReLU, Dropout, Conv2DTranspose, Reshape\n",
        "from tensorflow.keras.models import Model, Sequential, load_model\n",
        "from tensorflow.keras.optimizers import Adam\n",
        "from tensorflow.keras.preprocessing import image, image_dataset_from_directory\n",
        "from sklearn.preprocessing import StandardScaler\n",
        "from tensorflow.keras.initializers import RandomNormal\n",
        "\n",
        "import numpy as np\n",
        "import matplotlib.pyplot as plt\n",
        "from matplotlib.pyplot import figure\n",
        "from glob import glob\n",
        "import os, sys\n",
        "import shutil\n",
        "from PIL import Image\n",
        "from numpy import asarray\n",
        "import logging\n",
        "from IPython.core.pylabtools import figsize\n"
      ]
    },
    {
      "cell_type": "code",
      "execution_count": 2,
      "metadata": {
        "id": "Os5v9vwzBgX9"
      },
      "outputs": [],
      "source": [
        "# batch, epoch, image output period\n",
        "batch_size = 64\n",
        "epochs = 1000\n",
        "sample_period = 5\n",
        "\n",
        "# image_size and latent_dim\n",
        "image_size = (64,64,3)\n",
        "H = image_size[0]\n",
        "W = image_size[1]\n",
        "C = image_size[2]\n",
        "D = H*W*C\n",
        "latent_dim = 100"
      ]
    },
    {
      "cell_type": "code",
      "execution_count": 3,
      "metadata": {
        "id": "4okZFpGszsj4",
        "colab": {
          "base_uri": "https://localhost:8080/"
        },
        "outputId": "4b7819d1-8f3a-41b1-fb33-1b7a53745bfb"
      },
      "outputs": [
        {
          "output_type": "stream",
          "name": "stdout",
          "text": [
            "Mounted at /content/drive\n"
          ]
        }
      ],
      "source": [
        "from google.colab import drive\n",
        "drive.mount(\"/content/drive\")"
      ]
    },
    {
      "cell_type": "code",
      "source": [
        "# !mkdir data\n",
        "!unzip -q /content/drive/MyDrive/Coding/Data/archive.zip"
      ],
      "metadata": {
        "id": "yUDuVhynB__o"
      },
      "execution_count": 4,
      "outputs": []
    },
    {
      "cell_type": "code",
      "execution_count": 5,
      "metadata": {
        "id": "Lne2DpWyuxJN"
      },
      "outputs": [],
      "source": [
        "img_path = glob(\"img_align_celeba/img_align_celeba/*.jpg\")\n",
        "train_path = \"img_align_celeba/\"\n"
      ]
    },
    {
      "cell_type": "code",
      "source": [
        "data_gen = image_dataset_from_directory(directory=train_path, batch_size= batch_size, image_size=(H,W), label_mode=None, shuffle= True)\n",
        "\n",
        "data_gen = data_gen.map(lambda x : ((x/255.0)-0.5)*2)"
      ],
      "metadata": {
        "colab": {
          "base_uri": "https://localhost:8080/"
        },
        "id": "fWG_fdPRCVKf",
        "outputId": "ff3d1011-fc68-416f-8362-fc7bd98843bd"
      },
      "execution_count": 6,
      "outputs": [
        {
          "output_type": "stream",
          "name": "stdout",
          "text": [
            "Found 202599 files belonging to 1 classes.\n"
          ]
        }
      ]
    },
    {
      "cell_type": "markdown",
      "metadata": {
        "id": "12DjMmQK2nk5"
      },
      "source": [
        "흑백사진 조심하기"
      ]
    },
    {
      "cell_type": "code",
      "execution_count": 7,
      "metadata": {
        "id": "_1cZayYyBgYF"
      },
      "outputs": [],
      "source": [
        "def build_generator(latent_dim):\n",
        "  model = Sequential()\n",
        "  model.add(Input(shape=(latent_dim,)))\n",
        "  model.add(Dense(256,))\n",
        "  model.add(LeakyReLU(alpha=0.2))\n",
        "  model.add(Dense(512))\n",
        "  model.add(LeakyReLU(alpha = 0.2))\n",
        "  model.add(Dense(8192))\n",
        "  \n",
        "  \n",
        "  # reshape\n",
        "  model.add(tf.keras.layers.Reshape((4,4,512)))\n",
        "\n",
        "  \n",
        "  model.add(Conv2DTranspose(256,kernel_size=(4,4), strides=(2,2), activation=LeakyReLU(alpha = 0.2), padding=\"same\"))\n",
        "  model.add(Conv2DTranspose(128,kernel_size=(4,4), strides=(2,2), activation=LeakyReLU(alpha = 0.2), padding=\"same\"))\n",
        "  \n",
        "  model.add(Conv2DTranspose(64,kernel_size=(4,4), strides=(2,2), activation= LeakyReLU(alpha = 0.2), padding=\"same\"))\n",
        "  \n",
        "\n",
        "  model.add(Conv2DTranspose(3,kernel_size=(3,3), strides = (2,2), activation= \"tanh\", padding=\"same\"))\n",
        "  \n",
        "  return model"
      ]
    },
    {
      "cell_type": "code",
      "execution_count": 8,
      "metadata": {
        "id": "DsUaW654yKbF"
      },
      "outputs": [],
      "source": [
        "def build_discriminiator(img_size = (H,W,C)):\n",
        "  model = Sequential()\n",
        "  model.add(Conv2D(64, 4, strides=2, padding='same', input_shape = img_size))\n",
        "  model.add(LeakyReLU(alpha=0.2))\n",
        "  \n",
        "\n",
        "  model.add(Conv2D(128, 4, strides=2, padding=\"same\"))\n",
        "  model.add(LeakyReLU(alpha = 0.3))\n",
        "  \n",
        "  \n",
        "  model.add(Conv2D(256, 4, strides=2, padding = \"same\"))\n",
        "  model.add(LeakyReLU(alpha = 0.3))\n",
        "\n",
        "  model.add(Conv2D(512, 4, strides=2, padding = \"same\"))\n",
        "  model.add(LeakyReLU(alpha = 0.3))\n",
        "  \n",
        "  \n",
        "  \n",
        "  model.add(Flatten())\n",
        "  # model.add(Dropout(0.3))\n",
        "  model.add(Dense(512))\n",
        "  model.add(LeakyReLU(alpha = 0.3))\n",
        "  model.add(Dense(64))\n",
        "  model.add(LeakyReLU(alpha = 0.3))\n",
        "  model.add(Dense(16))\n",
        "  model.add(LeakyReLU(alpha = 0.3))\n",
        "  model.add(Dense(1, activation = \"sigmoid\"))\n",
        "  \n",
        "  return model"
      ]
    },
    {
      "cell_type": "code",
      "execution_count": 9,
      "metadata": {
        "id": "ARc-Bc4iBgYF"
      },
      "outputs": [],
      "source": [
        "def build_gan(discriminator, generator):\n",
        "    discriminator.trainable = False\n",
        "    gan_input = Input(shape = (latent_dim,))\n",
        "    generator_output = generator(gan_input)\n",
        "    gan_output = discriminator(generator_output)\n",
        "\n",
        "    gan = Model(inputs = gan_input, outputs = gan_output)\n",
        "\n",
        "    gan.compile(loss = tf.keras.losses.BinaryCrossentropy(), optimizer = Adam(learning_rate = 0.0001, beta_1 = 0.5), metrics=[\"accuracy\"])\n",
        "\n",
        "    gan.summary()\n",
        "\n",
        "    discriminator.trainable = True\n",
        "\n",
        "    return gan"
      ]
    },
    {
      "cell_type": "code",
      "execution_count": 10,
      "metadata": {
        "colab": {
          "base_uri": "https://localhost:8080/"
        },
        "id": "eQyvzFEFBgYG",
        "outputId": "af16c84d-5aba-4e7b-c72f-c1f6b42c1437"
      },
      "outputs": [
        {
          "output_type": "stream",
          "name": "stdout",
          "text": [
            "Model: \"model\"\n",
            "_________________________________________________________________\n",
            " Layer (type)                Output Shape              Param #   \n",
            "=================================================================\n",
            " input_2 (InputLayer)        [(None, 100)]             0         \n",
            "                                                                 \n",
            " sequential_1 (Sequential)   (None, 64, 64, 3)         7114627   \n",
            "                                                                 \n",
            " sequential (Sequential)     (None, 1)                 6985249   \n",
            "                                                                 \n",
            "=================================================================\n",
            "Total params: 14,099,876\n",
            "Trainable params: 7,114,627\n",
            "Non-trainable params: 6,985,249\n",
            "_________________________________________________________________\n"
          ]
        }
      ],
      "source": [
        "discriminator = build_discriminiator(img_size=(H,W,C))\n",
        "discriminator.compile(loss = tf.keras.losses.BinaryCrossentropy(), optimizer= Adam(learning_rate = 0.0001, beta_1 = 0.5), metrics=[\"accuracy\"])\n",
        "\n",
        "generator = build_generator(latent_dim)\n",
        "gan = build_gan(discriminator=discriminator, generator=generator)\n",
        "\n"
      ]
    },
    {
      "cell_type": "code",
      "execution_count": 11,
      "metadata": {
        "id": "kuVO5gXo0Rt_"
      },
      "outputs": [],
      "source": [
        "ones = np.ones((batch_size,1))\n",
        "zeros = np.zeros((batch_size,1))"
      ]
    },
    {
      "cell_type": "code",
      "execution_count": 12,
      "metadata": {
        "id": "jwo1xD0_0VYD"
      },
      "outputs": [],
      "source": [
        "d_losses = []\n",
        "g_losses = []"
      ]
    },
    {
      "cell_type": "code",
      "execution_count": 13,
      "metadata": {
        "id": "DMdvSpSX0bVu"
      },
      "outputs": [],
      "source": [
        "file_path = \"/content/drive/MyDrive/Coding/image_result/CelebA\"\n",
        "if not os.path.exists(file_path):\n",
        "  os.makedirs(file_path)"
      ]
    },
    {
      "cell_type": "code",
      "execution_count": 14,
      "metadata": {
        "id": "Fa3hYSEuBgYH"
      },
      "outputs": [],
      "source": [
        "check_path = \"/content/drive/MyDrive/Coding/Check_point/CelebA\"\n",
        "if not os.path.exists(check_path):\n",
        "  os.makedirs(check_path)\n",
        "check_point = tf.train.Checkpoint(generator = generator, discriminator = discriminator, gan=gan, step = tf.Variable(1))\n",
        "check_point_manager = tf.train.CheckpointManager(checkpoint=check_point, directory= check_path, max_to_keep= 5)"
      ]
    },
    {
      "cell_type": "code",
      "execution_count": 15,
      "metadata": {
        "id": "-FNZ-xykBgYH",
        "colab": {
          "base_uri": "https://localhost:8080/"
        },
        "outputId": "81fd4144-6adb-4e82-9e78-6e0cfed28c00"
      },
      "outputs": [
        {
          "output_type": "execute_result",
          "data": {
            "text/plain": [
              "<tensorflow.python.training.tracking.util.CheckpointLoadStatus at 0x7fe5f08d3dd0>"
            ]
          },
          "metadata": {},
          "execution_count": 15
        }
      ],
      "source": [
        "check_point.restore(check_point_manager.latest_checkpoint)"
      ]
    },
    {
      "cell_type": "code",
      "execution_count": 18,
      "metadata": {
        "id": "OiAuHL5P0dHp"
      },
      "outputs": [],
      "source": [
        "def sample_images(epoch):\n",
        "  rows, cols = 3,3\n",
        "  \n",
        "  fig, ax = plt.subplots(rows,cols,figsize = (10,10))\n",
        "  fig.tight_layout()\n",
        "  noise = tf.random.normal([rows*cols, latent_dim])\n",
        "\n",
        "  imgs = generator.predict(noise)\n",
        "  imgs = (imgs + 1)/2.0\n",
        "\n",
        "  counter = 0\n",
        "  for i in range(rows):\n",
        "    for j in range(cols):\n",
        "      ax[i][j].imshow(imgs[counter])\n",
        "      plt.axis(\"off\")\n",
        "      counter += 1\n",
        "\n",
        "  plt.savefig(file_path + f\"/%d.png\" %epoch)\n",
        "  plt.close()"
      ]
    },
    {
      "cell_type": "code",
      "execution_count": 20,
      "metadata": {
        "id": "wU8qmPt8BgYH"
      },
      "outputs": [],
      "source": [
        "for epoch in range(epochs):\n",
        "    for jj in data_gen:\n",
        "        real_img = jj.numpy().astype(\"float32\")\n",
        "\n",
        "        if len(real_img) < batch_size:\n",
        "            continue\n",
        "\n",
        "        noise = tf.random.normal([batch_size, latent_dim])\n",
        "\n",
        "        fake_img = generator(noise)\n",
        "\n",
        "        fake_loss, fake_acc = discriminator.train_on_batch(fake_img, zeros)\n",
        "        real_loss, real_acc = discriminator.train_on_batch(real_img, ones)\n",
        "\n",
        "        d_loss = fake_loss + real_loss\n",
        "        d_acc = fake_acc + real_acc\n",
        "\n",
        "        g_loss, g_acc = gan.train_on_batch(noise, ones)\n",
        "\n",
        "        d_losses.append(d_loss)\n",
        "        g_losses.append(g_loss)\n",
        "\n",
        "    print(f\"epoch: {epoch + 1 }/{epochs}  d_loss : {d_loss:.2f} , d_acc: {d_acc:.2f}, g_loss : {g_loss:.2f},  g_acc : {g_acc:.2f}\") \n",
        "\n",
        "    if epoch % sample_period == 0:\n",
        "        sample_images(epoch)\n",
        "        check_point.step.assign_add(1)\n",
        "        check_point_manager.save()\n",
        "\n",
        "\n",
        "\n",
        "\n",
        "        "
      ]
    }
  ],
  "metadata": {
    "accelerator": "GPU",
    "colab": {
      "name": "Success_Gan_model_cp .ipynb",
      "provenance": [],
      "collapsed_sections": []
    },
    "gpuClass": "standard",
    "kernelspec": {
      "display_name": "Python 3.9.5 64-bit",
      "language": "python",
      "name": "python3"
    },
    "language_info": {
      "codemirror_mode": {
        "name": "ipython",
        "version": 3
      },
      "file_extension": ".py",
      "mimetype": "text/x-python",
      "name": "python",
      "nbconvert_exporter": "python",
      "pygments_lexer": "ipython3",
      "version": "3.9.5"
    },
    "vscode": {
      "interpreter": {
        "hash": "9979e34a25f81091936d292fbfa07f6ca698cb1933485fd8939dcc31509f11ba"
      }
    }
  },
  "nbformat": 4,
  "nbformat_minor": 0
}