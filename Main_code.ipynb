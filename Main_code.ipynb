{
  "cells": [
    {
      "cell_type": "code",
      "execution_count": 1,
      "metadata": {
        "id": "IOvuODcnZj4F"
      },
      "outputs": [],
      "source": [
        "import tensorflow as tf\n",
        "from tensorflow.keras.layers import Dense, Conv2D, Input, Flatten, LeakyReLU, Dropout, Conv2DTranspose, Reshape\n",
        "from tensorflow.keras.models import Model, Sequential, load_model\n",
        "from tensorflow.keras.optimizers import Adam\n",
        "from tensorflow.keras.preprocessing import image, image_dataset_from_directory\n",
        "from sklearn.preprocessing import StandardScaler\n",
        "from tensorflow.keras.initializers import RandomNormal\n",
        "\n",
        "import numpy as np\n",
        "import matplotlib.pyplot as plt\n",
        "from matplotlib.pyplot import figure\n",
        "from glob import glob\n",
        "import os, sys\n",
        "import shutil\n",
        "from PIL import Image\n",
        "from numpy import asarray\n",
        "import logging\n",
        "from IPython.core.pylabtools import figsize\n"
      ]
    },
    {
      "cell_type": "code",
      "execution_count": 2,
      "metadata": {
        "id": "Os5v9vwzBgX9"
      },
      "outputs": [],
      "source": [
        "# batch, epoch, image output period\n",
        "batch_size = 64\n",
        "epochs = 1000\n",
        "sample_period = 5\n",
        "\n",
        "# image_size and latent_dim\n",
        "image_size = (64,64,3)\n",
        "H = image_size[0]\n",
        "W = image_size[1]\n",
        "C = image_size[2]\n",
        "D = H*W*C\n",
        "latent_dim = 100"
      ]
    },
    {
      "cell_type": "code",
      "execution_count": 3,
      "metadata": {
        "id": "4okZFpGszsj4",
        "colab": {
          "base_uri": "https://localhost:8080/"
        },
        "outputId": "4b7819d1-8f3a-41b1-fb33-1b7a53745bfb"
      },
      "outputs": [
        {
          "output_type": "stream",
          "name": "stdout",
          "text": [
            "Mounted at /content/drive\n"
          ]
        }
      ],
      "source": [
        "from google.colab import drive\n",
        "drive.mount(\"/content/drive\")"
      ]
    },
    {
      "cell_type": "code",
      "source": [
        "# !mkdir data\n",
        "!unzip -q /content/drive/MyDrive/Coding/Data/archive.zip"
      ],
      "metadata": {
        "id": "yUDuVhynB__o"
      },
      "execution_count": 4,
      "outputs": []
    },
    {
      "cell_type": "code",
      "execution_count": 5,
      "metadata": {
        "id": "Lne2DpWyuxJN"
      },
      "outputs": [],
      "source": [
        "img_path = glob(\"img_align_celeba/img_align_celeba/*.jpg\")\n",
        "train_path = \"img_align_celeba/\"\n"
      ]
    },
    {
      "cell_type": "code",
      "source": [
        "data_gen = image_dataset_from_directory(directory=train_path, batch_size= batch_size, image_size=(H,W), label_mode=None, shuffle= True)\n",
        "\n",
        "data_gen = data_gen.map(lambda x : ((x/255.0)-0.5)*2)"
      ],
      "metadata": {
        "colab": {
          "base_uri": "https://localhost:8080/"
        },
        "id": "fWG_fdPRCVKf",
        "outputId": "ff3d1011-fc68-416f-8362-fc7bd98843bd"
      },
      "execution_count": 6,
      "outputs": [
        {
          "output_type": "stream",
          "name": "stdout",
          "text": [
            "Found 202599 files belonging to 1 classes.\n"
          ]
        }
      ]
    },
    {
      "cell_type": "markdown",
      "metadata": {
        "id": "12DjMmQK2nk5"
      },
      "source": [
        "흑백사진 조심하기"
      ]
    },
    {
      "cell_type": "code",
      "execution_count": 7,
      "metadata": {
        "id": "_1cZayYyBgYF"
      },
      "outputs": [],
      "source": [
        "def build_generator(latent_dim):\n",
        "  model = Sequential()\n",
        "  model.add(Input(shape=(latent_dim,)))\n",
        "  model.add(Dense(256,))\n",
        "  model.add(LeakyReLU(alpha=0.2))\n",
        "  model.add(Dense(512))\n",
        "  model.add(LeakyReLU(alpha = 0.2))\n",
        "  model.add(Dense(8192))\n",
        "  \n",
        "  \n",
        "  # reshape\n",
        "  model.add(tf.keras.layers.Reshape((4,4,512)))\n",
        "\n",
        "  \n",
        "  model.add(Conv2DTranspose(256,kernel_size=(4,4), strides=(2,2), activation=LeakyReLU(alpha = 0.2), padding=\"same\"))\n",
        "  model.add(Conv2DTranspose(128,kernel_size=(4,4), strides=(2,2), activation=LeakyReLU(alpha = 0.2), padding=\"same\"))\n",
        "  \n",
        "  model.add(Conv2DTranspose(64,kernel_size=(4,4), strides=(2,2), activation= LeakyReLU(alpha = 0.2), padding=\"same\"))\n",
        "  \n",
        "\n",
        "  model.add(Conv2DTranspose(3,kernel_size=(3,3), strides = (2,2), activation= \"tanh\", padding=\"same\"))\n",
        "  \n",
        "  return model"
      ]
    },
    {
      "cell_type": "code",
      "execution_count": 8,
      "metadata": {
        "id": "DsUaW654yKbF"
      },
      "outputs": [],
      "source": [
        "def build_discriminiator(img_size = (H,W,C)):\n",
        "  model = Sequential()\n",
        "  model.add(Conv2D(64, 4, strides=2, padding='same', input_shape = img_size))\n",
        "  model.add(LeakyReLU(alpha=0.2))\n",
        "  \n",
        "\n",
        "  model.add(Conv2D(128, 4, strides=2, padding=\"same\"))\n",
        "  model.add(LeakyReLU(alpha = 0.3))\n",
        "  \n",
        "  \n",
        "  model.add(Conv2D(256, 4, strides=2, padding = \"same\"))\n",
        "  model.add(LeakyReLU(alpha = 0.3))\n",
        "\n",
        "  model.add(Conv2D(512, 4, strides=2, padding = \"same\"))\n",
        "  model.add(LeakyReLU(alpha = 0.3))\n",
        "  \n",
        "  \n",
        "  \n",
        "  model.add(Flatten())\n",
        "  # model.add(Dropout(0.3))\n",
        "  model.add(Dense(512))\n",
        "  model.add(LeakyReLU(alpha = 0.3))\n",
        "  model.add(Dense(64))\n",
        "  model.add(LeakyReLU(alpha = 0.3))\n",
        "  model.add(Dense(16))\n",
        "  model.add(LeakyReLU(alpha = 0.3))\n",
        "  model.add(Dense(1, activation = \"sigmoid\"))\n",
        "  \n",
        "  return model"
      ]
    },
    {
      "cell_type": "code",
      "execution_count": 9,
      "metadata": {
        "id": "ARc-Bc4iBgYF"
      },
      "outputs": [],
      "source": [
        "def build_gan(discriminator, generator):\n",
        "    discriminator.trainable = False\n",
        "    gan_input = Input(shape = (latent_dim,))\n",
        "    generator_output = generator(gan_input)\n",
        "    gan_output = discriminator(generator_output)\n",
        "\n",
        "    gan = Model(inputs = gan_input, outputs = gan_output)\n",
        "\n",
        "    gan.compile(loss = tf.keras.losses.BinaryCrossentropy(), optimizer = Adam(learning_rate = 0.0001, beta_1 = 0.5), metrics=[\"accuracy\"])\n",
        "\n",
        "    gan.summary()\n",
        "\n",
        "    discriminator.trainable = True\n",
        "\n",
        "    return gan"
      ]
    },
    {
      "cell_type": "code",
      "execution_count": 10,
      "metadata": {
        "colab": {
          "base_uri": "https://localhost:8080/"
        },
        "id": "eQyvzFEFBgYG",
        "outputId": "af16c84d-5aba-4e7b-c72f-c1f6b42c1437"
      },
      "outputs": [
        {
          "output_type": "stream",
          "name": "stdout",
          "text": [
            "Model: \"model\"\n",
            "_________________________________________________________________\n",
            " Layer (type)                Output Shape              Param #   \n",
            "=================================================================\n",
            " input_2 (InputLayer)        [(None, 100)]             0         \n",
            "                                                                 \n",
            " sequential_1 (Sequential)   (None, 64, 64, 3)         7114627   \n",
            "                                                                 \n",
            " sequential (Sequential)     (None, 1)                 6985249   \n",
            "                                                                 \n",
            "=================================================================\n",
            "Total params: 14,099,876\n",
            "Trainable params: 7,114,627\n",
            "Non-trainable params: 6,985,249\n",
            "_________________________________________________________________\n"
          ]
        }
      ],
      "source": [
        "discriminator = build_discriminiator(img_size=(H,W,C))\n",
        "discriminator.compile(loss = tf.keras.losses.BinaryCrossentropy(), optimizer= Adam(learning_rate = 0.0001, beta_1 = 0.5), metrics=[\"accuracy\"])\n",
        "\n",
        "generator = build_generator(latent_dim)\n",
        "gan = build_gan(discriminator=discriminator, generator=generator)\n",
        "\n"
      ]
    },
    {
      "cell_type": "code",
      "execution_count": 11,
      "metadata": {
        "id": "kuVO5gXo0Rt_"
      },
      "outputs": [],
      "source": [
        "ones = np.ones((batch_size,1))\n",
        "zeros = np.zeros((batch_size,1))"
      ]
    },
    {
      "cell_type": "code",
      "execution_count": 12,
      "metadata": {
        "id": "jwo1xD0_0VYD"
      },
      "outputs": [],
      "source": [
        "d_losses = []\n",
        "g_losses = []"
      ]
    },
    {
      "cell_type": "code",
      "execution_count": 13,
      "metadata": {
        "id": "DMdvSpSX0bVu"
      },
      "outputs": [],
      "source": [
        "file_path = \"/content/drive/MyDrive/Coding/image_result/CelebA\"\n",
        "if not os.path.exists(file_path):\n",
        "  os.makedirs(file_path)"
      ]
    },
    {
      "cell_type": "code",
      "execution_count": 14,
      "metadata": {
        "id": "Fa3hYSEuBgYH"
      },
      "outputs": [],
      "source": [
        "check_path = \"/content/drive/MyDrive/Coding/Check_point/CelebA\"\n",
        "if not os.path.exists(check_path):\n",
        "  os.makedirs(check_path)\n",
        "check_point = tf.train.Checkpoint(generator = generator, discriminator = discriminator, gan=gan, step = tf.Variable(1))\n",
        "check_point_manager = tf.train.CheckpointManager(checkpoint=check_point, directory= check_path, max_to_keep= 5)"
      ]
    },
    {
      "cell_type": "code",
      "execution_count": 15,
      "metadata": {
        "id": "-FNZ-xykBgYH",
        "colab": {
          "base_uri": "https://localhost:8080/"
        },
        "outputId": "81fd4144-6adb-4e82-9e78-6e0cfed28c00"
      },
      "outputs": [
        {
          "output_type": "execute_result",
          "data": {
            "text/plain": [
              "<tensorflow.python.training.tracking.util.CheckpointLoadStatus at 0x7fe5f08d3dd0>"
            ]
          },
          "metadata": {},
          "execution_count": 15
        }
      ],
      "source": [
        "check_point.restore(check_point_manager.latest_checkpoint)"
      ]
    },
    {
      "cell_type": "code",
      "execution_count": 18,
      "metadata": {
        "id": "OiAuHL5P0dHp"
      },
      "outputs": [],
      "source": [
        "def sample_images(epoch):\n",
        "  rows, cols = 3,3\n",
        "  \n",
        "  fig, ax = plt.subplots(rows,cols,figsize = (10,10))\n",
        "  fig.tight_layout()\n",
        "  noise = tf.random.normal([rows*cols, latent_dim])\n",
        "\n",
        "  imgs = generator.predict(noise)\n",
        "  imgs = (imgs + 1)/2.0\n",
        "\n",
        "  counter = 0\n",
        "  for i in range(rows):\n",
        "    for j in range(cols):\n",
        "      ax[i][j].imshow(imgs[counter])\n",
        "      plt.axis(\"off\")\n",
        "      counter += 1\n",
        "\n",
        "  plt.savefig(file_path + f\"/%d.png\" %epoch)\n",
        "  plt.close()"
      ]
    },
    {
      "cell_type": "code",
      "execution_count": 19,
      "metadata": {
        "colab": {
          "base_uri": "https://localhost:8080/",
          "height": 710
        },
        "id": "wU8qmPt8BgYH",
        "outputId": "2fac6258-d2c4-42bc-accb-88e2aff14e6c"
      },
      "outputs": [
        {
          "output_type": "stream",
          "name": "stdout",
          "text": [
            "epoch: 1/1000  d_loss : 0.11 , d_acc: 1.97, g_loss : 3.94,  g_acc : 0.00\n",
            "epoch: 2/1000  d_loss : 0.11 , d_acc: 1.97, g_loss : 3.86,  g_acc : 0.00\n",
            "epoch: 3/1000  d_loss : 0.05 , d_acc: 2.00, g_loss : 4.26,  g_acc : 0.00\n",
            "epoch: 4/1000  d_loss : 0.10 , d_acc: 1.97, g_loss : 3.97,  g_acc : 0.00\n",
            "epoch: 5/1000  d_loss : 0.26 , d_acc: 1.95, g_loss : 2.54,  g_acc : 0.00\n",
            "epoch: 6/1000  d_loss : 0.12 , d_acc: 2.00, g_loss : 3.39,  g_acc : 0.00\n",
            "epoch: 7/1000  d_loss : 0.17 , d_acc: 1.95, g_loss : 4.02,  g_acc : 0.00\n",
            "epoch: 8/1000  d_loss : 1.07 , d_acc: 1.52, g_loss : 5.94,  g_acc : 0.00\n",
            "epoch: 9/1000  d_loss : 0.12 , d_acc: 1.95, g_loss : 3.53,  g_acc : 0.00\n",
            "epoch: 10/1000  d_loss : 0.06 , d_acc: 2.00, g_loss : 4.60,  g_acc : 0.00\n",
            "epoch: 11/1000  d_loss : 0.25 , d_acc: 1.89, g_loss : 5.44,  g_acc : 0.00\n",
            "epoch: 12/1000  d_loss : 0.12 , d_acc: 1.95, g_loss : 5.74,  g_acc : 0.00\n",
            "epoch: 13/1000  d_loss : 0.24 , d_acc: 1.97, g_loss : 4.42,  g_acc : 0.00\n",
            "epoch: 14/1000  d_loss : 0.05 , d_acc: 1.98, g_loss : 4.36,  g_acc : 0.00\n",
            "epoch: 15/1000  d_loss : 0.16 , d_acc: 1.98, g_loss : 4.36,  g_acc : 0.00\n",
            "epoch: 16/1000  d_loss : 0.13 , d_acc: 1.97, g_loss : 5.18,  g_acc : 0.00\n"
          ]
        },
        {
          "output_type": "error",
          "ename": "KeyboardInterrupt",
          "evalue": "ignored",
          "traceback": [
            "\u001b[0;31m---------------------------------------------------------------------------\u001b[0m",
            "\u001b[0;31mKeyboardInterrupt\u001b[0m                         Traceback (most recent call last)",
            "\u001b[0;32m/usr/local/lib/python3.7/dist-packages/IPython/core/interactiveshell.py\u001b[0m in \u001b[0;36mrun_code\u001b[0;34m(self, code_obj, result, async_)\u001b[0m\n\u001b[1;32m   3325\u001b[0m                 \u001b[0;32melse\u001b[0m\u001b[0;34m:\u001b[0m\u001b[0;34m\u001b[0m\u001b[0;34m\u001b[0m\u001b[0m\n\u001b[0;32m-> 3326\u001b[0;31m                     \u001b[0mexec\u001b[0m\u001b[0;34m(\u001b[0m\u001b[0mcode_obj\u001b[0m\u001b[0;34m,\u001b[0m \u001b[0mself\u001b[0m\u001b[0;34m.\u001b[0m\u001b[0muser_global_ns\u001b[0m\u001b[0;34m,\u001b[0m \u001b[0mself\u001b[0m\u001b[0;34m.\u001b[0m\u001b[0muser_ns\u001b[0m\u001b[0;34m)\u001b[0m\u001b[0;34m\u001b[0m\u001b[0;34m\u001b[0m\u001b[0m\n\u001b[0m\u001b[1;32m   3327\u001b[0m             \u001b[0;32mfinally\u001b[0m\u001b[0;34m:\u001b[0m\u001b[0;34m\u001b[0m\u001b[0;34m\u001b[0m\u001b[0m\n",
            "\u001b[0;32m<ipython-input-19-b9f6d9f4513a>\u001b[0m in \u001b[0;36m<module>\u001b[0;34m\u001b[0m\n\u001b[1;32m     11\u001b[0m \u001b[0;34m\u001b[0m\u001b[0m\n\u001b[0;32m---> 12\u001b[0;31m         \u001b[0mfake_loss\u001b[0m\u001b[0;34m,\u001b[0m \u001b[0mfake_acc\u001b[0m \u001b[0;34m=\u001b[0m \u001b[0mdiscriminator\u001b[0m\u001b[0;34m.\u001b[0m\u001b[0mtrain_on_batch\u001b[0m\u001b[0;34m(\u001b[0m\u001b[0mfake_img\u001b[0m\u001b[0;34m,\u001b[0m \u001b[0mzeros\u001b[0m\u001b[0;34m)\u001b[0m\u001b[0;34m\u001b[0m\u001b[0;34m\u001b[0m\u001b[0m\n\u001b[0m\u001b[1;32m     13\u001b[0m         \u001b[0mreal_loss\u001b[0m\u001b[0;34m,\u001b[0m \u001b[0mreal_acc\u001b[0m \u001b[0;34m=\u001b[0m \u001b[0mdiscriminator\u001b[0m\u001b[0;34m.\u001b[0m\u001b[0mtrain_on_batch\u001b[0m\u001b[0;34m(\u001b[0m\u001b[0mreal_img\u001b[0m\u001b[0;34m,\u001b[0m \u001b[0mones\u001b[0m\u001b[0;34m)\u001b[0m\u001b[0;34m\u001b[0m\u001b[0;34m\u001b[0m\u001b[0m\n",
            "\u001b[0;32m/usr/local/lib/python3.7/dist-packages/keras/engine/training.py\u001b[0m in \u001b[0;36mtrain_on_batch\u001b[0;34m(self, x, y, sample_weight, class_weight, reset_metrics, return_dict)\u001b[0m\n\u001b[1;32m   2090\u001b[0m                                                     \u001b[0my\u001b[0m\u001b[0;34m,\u001b[0m \u001b[0msample_weight\u001b[0m\u001b[0;34m,\u001b[0m\u001b[0;34m\u001b[0m\u001b[0;34m\u001b[0m\u001b[0m\n\u001b[0;32m-> 2091\u001b[0;31m                                                     class_weight)\n\u001b[0m\u001b[1;32m   2092\u001b[0m       \u001b[0mself\u001b[0m\u001b[0;34m.\u001b[0m\u001b[0mtrain_function\u001b[0m \u001b[0;34m=\u001b[0m \u001b[0mself\u001b[0m\u001b[0;34m.\u001b[0m\u001b[0mmake_train_function\u001b[0m\u001b[0;34m(\u001b[0m\u001b[0;34m)\u001b[0m\u001b[0;34m\u001b[0m\u001b[0;34m\u001b[0m\u001b[0m\n",
            "\u001b[0;32m/usr/local/lib/python3.7/dist-packages/keras/engine/data_adapter.py\u001b[0m in \u001b[0;36msingle_batch_iterator\u001b[0;34m(strategy, x, y, sample_weight, class_weight)\u001b[0m\n\u001b[1;32m   1640\u001b[0m   \u001b[0mdataset\u001b[0m \u001b[0;34m=\u001b[0m \u001b[0mstrategy\u001b[0m\u001b[0;34m.\u001b[0m\u001b[0mexperimental_distribute_dataset\u001b[0m\u001b[0;34m(\u001b[0m\u001b[0mdataset\u001b[0m\u001b[0;34m)\u001b[0m\u001b[0;34m\u001b[0m\u001b[0;34m\u001b[0m\u001b[0m\n\u001b[0;32m-> 1641\u001b[0;31m   \u001b[0;32mreturn\u001b[0m \u001b[0miter\u001b[0m\u001b[0;34m(\u001b[0m\u001b[0mdataset\u001b[0m\u001b[0;34m)\u001b[0m\u001b[0;34m\u001b[0m\u001b[0;34m\u001b[0m\u001b[0m\n\u001b[0m\u001b[1;32m   1642\u001b[0m \u001b[0;34m\u001b[0m\u001b[0m\n",
            "\u001b[0;32m/usr/local/lib/python3.7/dist-packages/tensorflow/python/data/ops/dataset_ops.py\u001b[0m in \u001b[0;36m__iter__\u001b[0;34m(self)\u001b[0m\n\u001b[1;32m    485\u001b[0m       \u001b[0;32mwith\u001b[0m \u001b[0mops\u001b[0m\u001b[0;34m.\u001b[0m\u001b[0mcolocate_with\u001b[0m\u001b[0;34m(\u001b[0m\u001b[0mself\u001b[0m\u001b[0;34m.\u001b[0m\u001b[0m_variant_tensor\u001b[0m\u001b[0;34m)\u001b[0m\u001b[0;34m:\u001b[0m\u001b[0;34m\u001b[0m\u001b[0;34m\u001b[0m\u001b[0m\n\u001b[0;32m--> 486\u001b[0;31m         \u001b[0;32mreturn\u001b[0m \u001b[0miterator_ops\u001b[0m\u001b[0;34m.\u001b[0m\u001b[0mOwnedIterator\u001b[0m\u001b[0;34m(\u001b[0m\u001b[0mself\u001b[0m\u001b[0;34m)\u001b[0m\u001b[0;34m\u001b[0m\u001b[0;34m\u001b[0m\u001b[0m\n\u001b[0m\u001b[1;32m    487\u001b[0m     \u001b[0;32melse\u001b[0m\u001b[0;34m:\u001b[0m\u001b[0;34m\u001b[0m\u001b[0;34m\u001b[0m\u001b[0m\n",
            "\u001b[0;32m/usr/local/lib/python3.7/dist-packages/tensorflow/python/data/ops/iterator_ops.py\u001b[0m in \u001b[0;36m__init__\u001b[0;34m(self, dataset, components, element_spec)\u001b[0m\n\u001b[1;32m    754\u001b[0m             \"not be specified.\")\n\u001b[0;32m--> 755\u001b[0;31m       \u001b[0mself\u001b[0m\u001b[0;34m.\u001b[0m\u001b[0m_create_iterator\u001b[0m\u001b[0;34m(\u001b[0m\u001b[0mdataset\u001b[0m\u001b[0;34m)\u001b[0m\u001b[0;34m\u001b[0m\u001b[0;34m\u001b[0m\u001b[0m\n\u001b[0m\u001b[1;32m    756\u001b[0m \u001b[0;34m\u001b[0m\u001b[0m\n",
            "\u001b[0;32m/usr/local/lib/python3.7/dist-packages/tensorflow/python/data/ops/iterator_ops.py\u001b[0m in \u001b[0;36m_create_iterator\u001b[0;34m(self, dataset)\u001b[0m\n\u001b[1;32m    786\u001b[0m                 output_shapes=self._flat_output_shapes))\n\u001b[0;32m--> 787\u001b[0;31m         \u001b[0mgen_dataset_ops\u001b[0m\u001b[0;34m.\u001b[0m\u001b[0mmake_iterator\u001b[0m\u001b[0;34m(\u001b[0m\u001b[0mds_variant\u001b[0m\u001b[0;34m,\u001b[0m \u001b[0mself\u001b[0m\u001b[0;34m.\u001b[0m\u001b[0m_iterator_resource\u001b[0m\u001b[0;34m)\u001b[0m\u001b[0;34m\u001b[0m\u001b[0;34m\u001b[0m\u001b[0m\n\u001b[0m\u001b[1;32m    788\u001b[0m         \u001b[0;31m# Delete the resource when this object is deleted\u001b[0m\u001b[0;34m\u001b[0m\u001b[0;34m\u001b[0m\u001b[0;34m\u001b[0m\u001b[0m\n",
            "\u001b[0;32m/usr/local/lib/python3.7/dist-packages/tensorflow/python/ops/gen_dataset_ops.py\u001b[0m in \u001b[0;36mmake_iterator\u001b[0;34m(dataset, iterator, name)\u001b[0m\n\u001b[1;32m   3315\u001b[0m       _result = pywrap_tfe.TFE_Py_FastPathExecute(\n\u001b[0;32m-> 3316\u001b[0;31m         _ctx, \"MakeIterator\", name, dataset, iterator)\n\u001b[0m\u001b[1;32m   3317\u001b[0m       \u001b[0;32mreturn\u001b[0m \u001b[0m_result\u001b[0m\u001b[0;34m\u001b[0m\u001b[0;34m\u001b[0m\u001b[0m\n",
            "\u001b[0;31mKeyboardInterrupt\u001b[0m: ",
            "\nDuring handling of the above exception, another exception occurred:\n",
            "\u001b[0;31mKeyboardInterrupt\u001b[0m                         Traceback (most recent call last)",
            "\u001b[0;31mKeyboardInterrupt\u001b[0m: "
          ]
        }
      ],
      "source": [
        "for epoch in range(epochs):\n",
        "    for jj in data_gen:\n",
        "        real_img = jj.numpy().astype(\"float32\")\n",
        "\n",
        "        if len(real_img) < batch_size:\n",
        "            continue\n",
        "\n",
        "        noise = tf.random.normal([batch_size, latent_dim])\n",
        "\n",
        "        fake_img = generator(noise)\n",
        "\n",
        "        fake_loss, fake_acc = discriminator.train_on_batch(fake_img, zeros)\n",
        "        real_loss, real_acc = discriminator.train_on_batch(real_img, ones)\n",
        "\n",
        "        d_loss = fake_loss + real_loss\n",
        "        d_acc = fake_acc + real_acc\n",
        "\n",
        "        g_loss, g_acc = gan.train_on_batch(noise, ones)\n",
        "\n",
        "        d_losses.append(d_loss)\n",
        "        g_losses.append(g_loss)\n",
        "\n",
        "    print(f\"epoch: {epoch + 1 }/{epochs}  d_loss : {d_loss:.2f} , d_acc: {d_acc:.2f}, g_loss : {g_loss:.2f},  g_acc : {g_acc:.2f}\") \n",
        "\n",
        "    if epoch % sample_period == 0:\n",
        "        sample_images(epoch)\n",
        "        check_point.step.assign_add(1)\n",
        "        check_point_manager.save()\n",
        "\n",
        "\n",
        "\n",
        "\n",
        "        "
      ]
    }
  ],
  "metadata": {
    "accelerator": "GPU",
    "colab": {
      "name": "Success_Gan_model_cp .ipynb",
      "provenance": [],
      "collapsed_sections": []
    },
    "gpuClass": "standard",
    "kernelspec": {
      "display_name": "Python 3.9.5 64-bit",
      "language": "python",
      "name": "python3"
    },
    "language_info": {
      "codemirror_mode": {
        "name": "ipython",
        "version": 3
      },
      "file_extension": ".py",
      "mimetype": "text/x-python",
      "name": "python",
      "nbconvert_exporter": "python",
      "pygments_lexer": "ipython3",
      "version": "3.9.5"
    },
    "vscode": {
      "interpreter": {
        "hash": "9979e34a25f81091936d292fbfa07f6ca698cb1933485fd8939dcc31509f11ba"
      }
    }
  },
  "nbformat": 4,
  "nbformat_minor": 0
}
